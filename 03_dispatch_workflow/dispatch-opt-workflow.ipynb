{
 "cells": [
  {
   "cell_type": "markdown",
   "id": "03a2f04e",
   "metadata": {},
   "source": [
    "## Import dependencies"
   ]
  },
  {
   "cell_type": "code",
   "execution_count": null,
   "id": "cfc83aad",
   "metadata": {},
   "outputs": [],
   "source": [
    "import pandas as pd\n",
    "import requests\n",
    "import json\n",
    "\n",
    "from helper_function.notebook_helpers import show_vehicle_routes, get_minutes_from_datetime\n",
    "from helper_function.map_helpers import get_map_by_vehicle\n",
    "\n",
    "from cuopt_thin_client import CuOptServiceClient"
   ]
  },
  {
   "attachments": {},
   "cell_type": "markdown",
   "id": "d274393c",
   "metadata": {},
   "source": [
    "Finally, suppose you are working at a company for grocery store fridge installation and maintenance. Once again, you are working with the same grocery stores. Some of the grocery stores are new so they have put in a request to install fridges. Some of the stores already have fridges but request some sort of maintenance. Given input data about stores' service requests and the available fleet of vehicles, it is your job to calculate the route for each vehicle such that all service requests are fulfilled while minimizing vehicles' travel time and cost. In this notebook, we will walk through the data preprocessing steps needed in order to utilize cuOpt for this use case. "
   ]
  },
  {
   "cell_type": "markdown",
   "id": "327d93b2",
   "metadata": {},
   "source": [
    "## Read input data from CSV files"
   ]
  },
  {
   "attachments": {},
   "cell_type": "markdown",
   "id": "4e2f06bb",
   "metadata": {},
   "source": [
    "For a Dispatch Optimization problem, we need 3 datasets with the following features:\n",
    "\n",
    "- Depots\n",
    "    - Name\n",
    "    - Location\n",
    "    - Start and end time (operation hours)\n",
    "\n",
    "- Orders\n",
    "    - Location\n",
    "    - Start and end time (customer indicated time window)\n",
    "    - Demand (service type- either install or maintenance)\n",
    "\n",
    "- Vehicles\n",
    "    - Name/ID Number\n",
    "    - Start and end depot name\n",
    "    - Start and end time (vehicle/driver shift hours)\n",
    "    - Capacity (in this problem is given in time- how long a driver can work for)\n",
    "    - Vehicle skills (whether this driver can provide install or maintenance service)\n",
    "\n"
   ]
  },
  {
   "cell_type": "markdown",
   "id": "3961bd53-8dd8-4dd9-be82-904788b8c828",
   "metadata": {},
   "source": [
    "You may have additional features depending on the problem at hand."
   ]
  },
  {
   "cell_type": "code",
   "execution_count": null,
   "id": "98067624",
   "metadata": {},
   "outputs": [],
   "source": [
    "depots_df = pd.read_csv('data/depots_do.csv')\n",
    "orders_df = pd.read_csv('data/orders_do.csv')\n",
    "vehicles_df = pd.read_csv('data/vehicles_do.csv')"
   ]
  },
  {
   "cell_type": "code",
   "execution_count": null,
   "id": "1377201a-aed2-4289-9afb-fa010549c232",
   "metadata": {},
   "outputs": [],
   "source": [
    "n_depots = len(depots_df.index)\n",
    "n_orders = len(orders_df.index)\n",
    "n_vehicles = len(vehicles_df.index)\n",
    "\n",
    "n_loc_total = n_orders + n_depots"
   ]
  },
  {
   "cell_type": "code",
   "execution_count": null,
   "id": "3f7410c2-ab27-4e34-a1ec-be7a0a81ebbe",
   "metadata": {},
   "outputs": [],
   "source": [
    "locations_df = (pd.concat([depots_df[[\"Name\",\"Longitude\",\"Latitude\"]], orders_df[[\"Name\",\"Longitude\",\"Latitude\"]]], ignore_index=True)).reset_index()"
   ]
  },
  {
   "attachments": {},
   "cell_type": "markdown",
   "id": "2367a719",
   "metadata": {},
   "source": [
    "# Create cost matrix"
   ]
  },
  {
   "cell_type": "markdown",
   "id": "ee8cfacb",
   "metadata": {},
   "source": [
    "The **cost matrix** models the cost between each pair of locations.  It is used by cuOpt to compute the cost of traveling from any location to any other. The cost matrix needs to be a square matrix of dimension equal to the total number of locations which inlcludes both depots and orders. In this Vehicle Routing Problem, our cost metric is travel time. This is cost we want to minimize. \n",
    "\n",
    "To build a a cost matrix of live traffic data, we need to use a third party map data provider. In this workflow, the cost matrix will calculate the travel time in minutes between each two pairs of locations which we build using OSRM. \n",
    "\n",
    "In practical applications, you can integrate this to a third-party map data provider like Esri or Google Maps to get live traffic data and run dynamic/real-time re-routing using cuOpt."
   ]
  },
  {
   "cell_type": "code",
   "execution_count": null,
   "id": "94e40ef3-9e44-4022-97e8-27b46ab2f3f9",
   "metadata": {},
   "outputs": [],
   "source": [
    "def build_travel_time_matrix(df):\n",
    "    latitude = df.Latitude.to_numpy()\n",
    "    longitude = df.Longitude.to_numpy()\n",
    "    \n",
    "    locations=\"\"\n",
    "    n_orders = len(df)\n",
    "    for i in range(n_orders):\n",
    "        locations = locations + \"{},{};\".format(longitude[i], latitude[i])\n",
    "    r = requests.get(\"http://router.project-osrm.org/table/v1/car/\"+ locations[:-1])\n",
    "    routes = json.loads(r.content)\n",
    "    \n",
    "    # OSRM returns duration in seconds. Here we are converting to minutes\n",
    "    for i in routes['durations']:\n",
    "        i[:] = [x / 60 for x in i]\n",
    "    \n",
    "    coords_index = { i: (latitude[i], longitude[i]) for i in range(df.shape[0])}\n",
    "    time_matrix = pd.DataFrame(routes['durations'])\n",
    "    \n",
    "    return time_matrix"
   ]
  },
  {
   "cell_type": "code",
   "execution_count": null,
   "id": "c16c7ad8-715f-41d0-81be-3817303e7393",
   "metadata": {},
   "outputs": [],
   "source": [
    "cost_matrix_df = build_travel_time_matrix(locations_df)"
   ]
  },
  {
   "attachments": {},
   "cell_type": "markdown",
   "id": "87dbc6d9",
   "metadata": {},
   "source": [
    "### Set fleet data"
   ]
  },
  {
   "attachments": {},
   "cell_type": "markdown",
   "id": "1ee272e2",
   "metadata": {},
   "source": [
    "Here we take our raw data from the csv file and convert it into data that we can send to the cuOpt solver.\n",
    "\n",
    "- vehicle_locations is a list of the start and end location of the vehicles. For example, a vehicle that starts and ends in depot 1 which is the location at index 0 would have the vehicle location of [0,0]. While each vehicle has an assigned location, in this use case, drivers may start and end their shift wherever they'd like. For example, they might wake up at home in the morning and go directly to their first task. Similarly, at the end of the day, they might finish their last task and go straight home without stopping in their depot. To represent this, we pass an array of booleans for skip_first_trips and skip_last_trips, where the value is True for all vehicles\n",
    "\n",
    "- capacities is the total amount of time a driver is available for represented in minutes. \n",
    "\n",
    "- vehicle_max_times is the maximum length of a shift a driver should work. For example, a driver might be available to work for 9 hours in a day but a shift should not exceed 6 hours, such that the driver will work 6 out of these 9 hours.\n",
    "\n",
    "- vehicle_time_windows is a list of the integer representation of the operating time of each vehicle. Equivalently, the shift of each vehicle driver. We convert the UTC timestamp to epoch time (integer representation in minutes)."
   ]
  },
  {
   "cell_type": "code",
   "execution_count": null,
   "id": "f9cdc911",
   "metadata": {},
   "outputs": [],
   "source": [
    "depot_names_to_indices_dict = {locations_df[\"Name\"].values.tolist()[i]: i for i in range(n_depots)}\n",
    "vehicle_locations = vehicles_df[[\"assigned_depot\",\"assigned_depot\"]].replace(depot_names_to_indices_dict).values.tolist()"
   ]
  },
  {
   "cell_type": "code",
   "execution_count": null,
   "id": "1b76291d-e6f1-4086-9a46-2cca5ad71889",
   "metadata": {},
   "outputs": [],
   "source": [
    "skip_first_trips = [True]*n_vehicles\n",
    "drop_return_trips = [True]*n_vehicles"
   ]
  },
  {
   "cell_type": "code",
   "execution_count": null,
   "id": "f0520835",
   "metadata": {},
   "outputs": [],
   "source": [
    "vehicle_time_windows = pd.concat((vehicles_df['vehicle_start'].apply(get_minutes_from_datetime).to_frame(), vehicles_df['vehicle_end'].apply(get_minutes_from_datetime).to_frame()), axis=1).values.tolist()"
   ]
  },
  {
   "cell_type": "code",
   "execution_count": null,
   "id": "4884b1d3-89db-4e1e-b197-1ab1801294f5",
   "metadata": {},
   "outputs": [],
   "source": [
    "vehicle_max_times = vehicles_df['max_shift_time'].values.tolist()"
   ]
  },
  {
   "attachments": {},
   "cell_type": "markdown",
   "id": "49c9a0d3",
   "metadata": {},
   "source": [
    "### Set task data\n"
   ]
  },
  {
   "attachments": {},
   "cell_type": "markdown",
   "id": "16fc19fb",
   "metadata": {},
   "source": [
    "Here we take our raw data from the csv file and convert it into data that we can send to the cuOpt solver.\n",
    "\n",
    "- task_locations is the locations where customers have requested service. \n",
    "\n",
    "- task_time_windows is the list of integer representation of the customer indicated time window in which the service provider can come to deliver the requested service. \n",
    "\n",
    "- service_times is the list of the length of time it takes for each service to be fulfilled. We let install service be 60 minutes, and maintenance service be 120 minutes.\n",
    "\n",
    "- order vehicle match is a list of dictionaries that map which vehicles can provide the service requested in each location. Some vehicles can provide install service, some can provide maintenance service, and some can do both. For a task that has requested install service, we want to assign all the vehicles that can fulfill this type of request."
   ]
  },
  {
   "cell_type": "code",
   "execution_count": null,
   "id": "36ed75d3",
   "metadata": {},
   "outputs": [],
   "source": [
    "task_locations = locations_df.index.tolist()[n_depots:]\n",
    "task_time_windows = pd.concat((orders_df['order_start_time'].apply(get_minutes_from_datetime).to_frame(), orders_df['order_end_time'].apply(get_minutes_from_datetime).to_frame()), axis=1).values.tolist()"
   ]
  },
  {
   "cell_type": "code",
   "execution_count": null,
   "id": "2140b7a7-1840-4501-b0e1-92e6fb94e4f8",
   "metadata": {},
   "outputs": [],
   "source": [
    "demand_service = orders_df[\"service\"]"
   ]
  },
  {
   "cell_type": "code",
   "execution_count": null,
   "id": "a980d336-e2a9-4254-a326-91e83d756f5d",
   "metadata": {},
   "outputs": [],
   "source": [
    "demand_service_time = {\"install\":60, \"maintenance\":120}\n",
    "demand_time = orders_df[\"service\"].replace(demand_service_time).tolist()"
   ]
  },
  {
   "cell_type": "code",
   "execution_count": null,
   "id": "941e1c69-6aba-4bc2-8b99-11cc535f72c0",
   "metadata": {},
   "outputs": [],
   "source": [
    "install_tech_ids = vehicles_df['install_service'][vehicles_df['install_service']==1].index.values.tolist()\n",
    "maintenance_tech_ids = vehicles_df['maintenance_service'][vehicles_df['maintenance_service']==1].index.values.tolist()"
   ]
  },
  {
   "cell_type": "code",
   "execution_count": null,
   "id": "1bb9b74e-33f9-427a-9b79-1b2338d27328",
   "metadata": {},
   "outputs": [],
   "source": [
    "vehicle_match_list = []\n",
    "\n",
    "for i in range(len(orders_df['service'].index)):\n",
    "    if orders_df['service'][i] == 'install':\n",
    "        vehicle_match_list.append({\"order_id\": i, \"vehicle_ids\": install_tech_ids})\n",
    "    if orders_df['service'][i] == 'maintenance':\n",
    "        vehicle_match_list.append({\"order_id\": i, \"vehicle_ids\": maintenance_tech_ids}) \n"
   ]
  },
  {
   "attachments": {},
   "cell_type": "markdown",
   "id": "84383472",
   "metadata": {},
   "source": [
    "### Set Solver configuration\n",
    "\n",
    "Before we send our data to the cuOpt solver, we will add a few several configuration settings.\n",
    "\n",
    "- the time_limit is the maximum time allotted to find a solution. This depends on the user, who has the flexibility of setting a higher time‑limit for better results. \n",
    "\n",
    "- the number of parallel agents (climbers) examining the solution search space.\n",
    "\n",
    "If the user wants the first solution, then around 2-3 seconds for 2000-4000 climbers are enough. cuOpt solver does not interrupt the initial solution. So if the user specifies a shorter time than it takes for the initial solution, the initial solution is returned when it is computed. Increasing the number of climbers will increase the time it takes to compute the initial solution.\n",
    "By default, the number of climbers is chosen by considering occupancy of a small GPU and experimented runtime vs number of climbers trade-off (that is, the best result in shortest time). Normally 1024 is a good start."
   ]
  },
  {
   "cell_type": "code",
   "execution_count": null,
   "id": "da3d8294",
   "metadata": {},
   "outputs": [],
   "source": [
    "# Set the time limit \n",
    "# Set number of climbers that will try to search for an optimal routes in parallel\n",
    "\n",
    "time_limit = 0.1\n",
    "number_of_climbers = 1024 \n"
   ]
  },
  {
   "attachments": {},
   "cell_type": "markdown",
   "id": "71afd7ad",
   "metadata": {},
   "source": [
    "## Save data in a dictionary\n",
    "\n",
    "Here, we take all the data we have prepared so far and save it to one dictionary. This includes the cost matrices, task data, fleet data, and solver config. This is all the data that cuOpt needs to solve our dispatch optimization problem. "
   ]
  },
  {
   "cell_type": "code",
   "execution_count": null,
   "id": "a587efe2",
   "metadata": {},
   "outputs": [],
   "source": [
    "cuopt_problem_data = {\n",
    "    \"cost_matrix_data\": {\n",
    "        \"cost_matrix\": {\n",
    "            \"0\": cost_matrix_df.to_numpy().tolist()\n",
    "        }\n",
    "    },\n",
    "    \"travel_time_matrix_data\": {\n",
    "        \"cost_matrix\": {\n",
    "            \"0\": cost_matrix_df.to_numpy().tolist()\n",
    "        }\n",
    "    },\n",
    "    \"task_data\": {\n",
    "        \"task_locations\": task_locations,\n",
    "        \"task_time_windows\": task_time_windows,\n",
    "        \"service_times\": demand_time,\n",
    "        \"order_vehicle_match\": vehicle_match_list,\n",
    "    },\n",
    "    \"fleet_data\": {\n",
    "        \"vehicle_locations\": vehicle_locations,\n",
    "        \"skip_first_trips\" : skip_first_trips,\n",
    "        \"drop_return_trips\": drop_return_trips,\n",
    "        \"vehicle_max_times\": vehicle_max_times,\n",
    "        \"vehicle_time_windows\": vehicle_time_windows,\n",
    "    },\n",
    "    \"solver_config\": {\n",
    "        \"time_limit\": time_limit,\n",
    "        \"number_of_climbers\": number_of_climbers\n",
    "    }\n",
    "}"
   ]
  },
  {
   "attachments": {},
   "cell_type": "markdown",
   "id": "232575f7",
   "metadata": {},
   "source": [
    "## Create a Service Client Instance\n",
    "\n",
    "Now that we have prepared all of our data, we can establish a connection to the cuOpt service. \n",
    "\n",
    "In the cell below, paste your client ID and Secret that you received via email in order to authenticate the connection. \n",
    "\n",
    "Here, we create an instance of the cuOpt Service Client to establish a connection. "
   ]
  },
  {
   "cell_type": "code",
   "execution_count": null,
   "id": "9d4aed76",
   "metadata": {},
   "outputs": [],
   "source": [
    "cuopt_client_id = \"<YOUR CLIENT ID>\"\n",
    "cuopt_client_secret = \"<YOUR CLIENT SECRET>\"\n",
    "\n",
    "cuopt_service_client = CuOptServiceClient(\n",
    "    client_id=cuopt_client_id,\n",
    "    client_secret=cuopt_client_secret,\n",
    "    )"
   ]
  },
  {
   "attachments": {},
   "cell_type": "markdown",
   "id": "72046266",
   "metadata": {},
   "source": [
    "## Send data to the cuOpt service and get the routes\n",
    "\n",
    "When using the Python SDK or microservice, we need to send all the data in to cuOpt in multiple steps or API calls. \n",
    "\n",
    "When using the managed service, we send all the data in at once. The Python thin client includes an endpoint that send the data over to the service and returns the service output."
   ]
  },
  {
   "cell_type": "code",
   "execution_count": null,
   "id": "a32bda6a",
   "metadata": {},
   "outputs": [],
   "source": [
    "# Solve the problem\n",
    "solver_response = cuopt_service_client.get_optimized_routes(\n",
    "    cuopt_problem_data\n",
    ")\n",
    "\n",
    "# Process returned data\n",
    "solver_resp = solver_response[\"response\"][\"solver_response\"]\n",
    "\n",
    "location_names = [str(x) for x in locations_df.index.tolist()]\n",
    "\n",
    "if solver_resp[\"status\"] == 0:\n",
    "    print(\"Cost for the routing in distance: \", solver_resp[\"solution_cost\"])\n",
    "    print(\"Vehicle count to complete routing: \", solver_resp[\"num_vehicles\"])\n",
    "    show_vehicle_routes(solver_resp, location_names)\n",
    "else:\n",
    "    print(\"NVIDIA cuOpt Failed to find a solution with status : \", solver_resp[\"status\"])"
   ]
  },
  {
   "attachments": {},
   "cell_type": "markdown",
   "id": "3f923b5e",
   "metadata": {},
   "source": [
    "# Visualize the routes\n",
    "\n",
    "In this example, not all vehicles are dispatched. It is possible that vehicle 0 is not dispatched but vehicle 1 is.  \n",
    "\n",
    "In the drop down menu below, you can select different vehicle ID's to see if they are dispatched. If they are, we print their assigned route on a map. \n",
    "\n",
    "Generating a route and map uses third party tools and takes about 30 seconds to run. \n"
   ]
  },
  {
   "cell_type": "code",
   "execution_count": null,
   "id": "cf985ebd",
   "metadata": {},
   "outputs": [],
   "source": [
    "from IPython.display import display, Markdown, clear_output\n",
    "import ipywidgets as widgets\n",
    "from ipywidgets import interact\n",
    "\n",
    "w = widgets.Dropdown(\n",
    "    options = list(vehicles_df.index.values),\n",
    "    description='Vehicle ID:',\n",
    ")\n",
    "\n",
    "def on_change(value):\n",
    "    if str(value) in list(solver_resp['vehicle_data'].keys()):\n",
    "        curr_route_df = pd.DataFrame(solver_resp[\"vehicle_data\"][str(value)]['route'], columns=[\"stop_index\"])\n",
    "        curr_route_df = pd.merge(curr_route_df, locations_df, how=\"left\", left_on=[\"stop_index\"], right_on=[\"index\"])\n",
    "        display(get_map_by_vehicle(curr_route_df))        \n",
    "    else:\n",
    "        print(\"This Vehicle is not assigned to any order!!\")\n",
    "\n",
    "interact(on_change, value=w)"
   ]
  }
 ],
 "metadata": {
  "kernelspec": {
   "display_name": "Python 3 (ipykernel)",
   "language": "python",
   "name": "python3"
  },
  "language_info": {
   "codemirror_mode": {
    "name": "ipython",
    "version": 3
   },
   "file_extension": ".py",
   "mimetype": "text/x-python",
   "name": "python",
   "nbconvert_exporter": "python",
   "pygments_lexer": "ipython3",
   "version": "3.9.5"
  }
 },
 "nbformat": 4,
 "nbformat_minor": 5
}
