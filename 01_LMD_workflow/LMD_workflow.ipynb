{
 "cells": [
  {
   "cell_type": "markdown",
   "id": "03a2f04e",
   "metadata": {},
   "source": [
    "## Import dependencies"
   ]
  },
  {
   "cell_type": "code",
   "execution_count": null,
   "id": "cfc83aad",
   "metadata": {},
   "outputs": [],
   "source": [
    "import pandas as pd\n",
    "from IPython.display import HTML\n",
    "import requests\n",
    "import json\n",
    "from scipy.spatial import distance\n",
    "\n",
    "from helper_function.notebook_helpers import show_vehicle_routes, get_minutes_from_datetime\n",
    "from helper_function.map_helpers import get_map_by_vehicle\n",
    "\n",
    "from cuopt_thin_client import CuOptServiceClient"
   ]
  },
  {
   "cell_type": "markdown",
   "id": "327d93b2",
   "metadata": {},
   "source": [
    "## Read input data from CSV files"
   ]
  },
  {
   "attachments": {},
   "cell_type": "markdown",
   "id": "4910c811",
   "metadata": {},
   "source": [
    "Suppose you are working as an Optimization Scientist at a grocery chain throughout New York City. There are 97 stores and 3 distribution centers. Every day, stores place an order for food that must be delivered the next day to ensure they are fully stocked. Given input data about stores' orders, distribution centers, and the available fleet of vehicles, it is your job to calculate the route for each vehicle such that all orders are fulfilled while minimizing vehicles' travel time and cost. For a problem space of 100 locations there are about 100! possible routes. You can do the math yourself- but that's a lot. Lucky for you, you have access to the cuOpt solver. All you need to do is read the input data and preprocess the data. Once all the data is ready, you just need to save it to one Python dictionary and send it to cuOpt, which does all the hard computation for you.\n",
    "\n",
    "Let's walk through these steps. "
   ]
  },
  {
   "cell_type": "markdown",
   "id": "4e2f06bb",
   "metadata": {},
   "source": [
    "For the Last Mile Delivery (LMD) use case, we need 3 datasets with the following features:\n",
    "\n",
    "- Depots\n",
    "    - Name\n",
    "    - Location\n",
    "    - Start and end time (operation hours)\n",
    "- Orders\n",
    "    - Store Name\n",
    "    - Location\n",
    "    - Start and end time (store hours)\n",
    "    - Demand\n",
    "    - Service time\n",
    "    - Loyalty Member\n",
    "    - Delivery Requirement\n",
    "- Vehicles\n",
    "    - Name/ID Number\n",
    "    - Assigned depot\n",
    "    - Start and end time (vehicle/driver shift hours)\n",
    "    - Break time\n",
    "    - Capacity\n",
    "    - Max time\n",
    "    \n",
    "You may have additional features depending on the problem at hand.\n",
    "\n",
    "Location data needs to be in the form of coordinate points (longitude and latitude values). Our data already has coordinate points included. If you're using new data and need to do so yourself, you will need to use a third party tool.\n"
   ]
  },
  {
   "cell_type": "markdown",
   "id": "3961bd53-8dd8-4dd9-be82-904788b8c828",
   "metadata": {},
   "source": [
    "In this workflow, we are using locations from the following Kaggle dataset https://www.kaggle.com/datasets/arianazmoudeh/airbnbopendata. This is a dataset of Airbnbs in New York City. Our problem space has 100 locations total which includes 3 depots and 97 orders. The coordinate points are taken from the dataset and the rest of the features are synthetic data. We have 15 vehicles available."
   ]
  },
  {
   "cell_type": "code",
   "execution_count": null,
   "id": "98067624",
   "metadata": {},
   "outputs": [],
   "source": [
    "DATA_PATH = \"data/\"\n",
    "\n",
    "orders_df = pd.read_csv(DATA_PATH+\"orders_lmd.csv\")\n",
    "depots_df = pd.read_csv(DATA_PATH+\"depots_lmd.csv\")\n",
    "vehicles_df = pd.read_csv(DATA_PATH+\"vehicles_lmd.csv\")"
   ]
  },
  {
   "cell_type": "code",
   "execution_count": null,
   "id": "1377201a-aed2-4289-9afb-fa010549c232",
   "metadata": {},
   "outputs": [],
   "source": [
    "n_depots = len(depots_df.index)\n",
    "n_orders = len(orders_df.index)\n",
    "n_vehicles = len(vehicles_df.index)\n",
    "\n",
    "n_loc_total = n_orders + n_depots"
   ]
  },
  {
   "cell_type": "code",
   "execution_count": null,
   "id": "3f7410c2-ab27-4e34-a1ec-be7a0a81ebbe",
   "metadata": {},
   "outputs": [],
   "source": [
    "locations_df = (pd.concat([depots_df[[\"Name\",\"Longitude\",\"Latitude\"]], orders_df[[\"Name\",\"Longitude\",\"Latitude\"]]], ignore_index=True)).reset_index()"
   ]
  },
  {
   "cell_type": "markdown",
   "id": "ee8cfacb",
   "metadata": {},
   "source": [
    "# Create Cost Matrix\n",
    "\n",
    "The **cost matrix** models the cost between each pair of locations.  It is used by cuOpt to compute the cost of traveling from any location to any other. The cost matrix needs to be a square matrix of dimension equal to the total number of locations which inlcludes both depots and orders. In this Vehicle Routing Problem, our cost metric is travel time. This is cost we want to minimize. \n",
    "\n",
    "To build a a cost matrix of live traffic data, we need to use a third party map data provider. In this workflow, the cost matrix will calculate the travel time in minutes between each two pairs of locations which we build using OSRM. \n",
    "\n",
    "In practical applications, you can integrate this to a third-party map data provider like Esri or Google Maps to get live traffic data and run dynamic/real-time re-routing using cuOpt."
   ]
  },
  {
   "cell_type": "code",
   "execution_count": null,
   "id": "94e40ef3-9e44-4022-97e8-27b46ab2f3f9",
   "metadata": {},
   "outputs": [],
   "source": [
    "def build_travel_time_matrix(df):\n",
    "    latitude = df.Latitude.to_numpy()\n",
    "    longitude = df.Longitude.to_numpy()\n",
    "    \n",
    "    locations=\"\"\n",
    "    n_orders = len(df)\n",
    "    for i in range(n_orders):\n",
    "        locations = locations + \"{},{};\".format(longitude[i], latitude[i])\n",
    "    r = requests.get(\"http://router.project-osrm.org/table/v1/car/\"+ locations[:-1])\n",
    "    routes = json.loads(r.content)\n",
    "    \n",
    "    # OSRM returns duration in seconds. Here we are converting to minutes\n",
    "    for i in routes['durations']:\n",
    "        i[:] = [x / 60 for x in i]\n",
    "    \n",
    "    coords_index = { i: (latitude[i], longitude[i]) for i in range(df.shape[0])}\n",
    "    time_matrix = pd.DataFrame(routes['durations'])\n",
    "    \n",
    "    return time_matrix"
   ]
  },
  {
   "cell_type": "code",
   "execution_count": null,
   "id": "e9674efe-8574-4069-b963-7c788d58f285",
   "metadata": {},
   "outputs": [],
   "source": [
    "def build_cost_matrix(df):\n",
    "\n",
    "    cost_matrix = distance.cdist(df.values, df.values, \"euclidean\")\n",
    "    \n",
    "    return cost_matrix"
   ]
  },
  {
   "cell_type": "code",
   "execution_count": null,
   "id": "b64ff1bc-f798-4eff-85bb-f803f402cd74",
   "metadata": {},
   "outputs": [],
   "source": [
    "cost_matrix_df = build_cost_matrix(locations_df[['Longitude','Latitude']])"
   ]
  },
  {
   "cell_type": "code",
   "execution_count": null,
   "id": "c16c7ad8-715f-41d0-81be-3817303e7393",
   "metadata": {},
   "outputs": [],
   "source": [
    "travel_time_matrix_df = build_travel_time_matrix(locations_df)"
   ]
  },
  {
   "cell_type": "markdown",
   "id": "87dbc6d9",
   "metadata": {},
   "source": [
    "### Set Fleet Data"
   ]
  },
  {
   "attachments": {},
   "cell_type": "markdown",
   "id": "1ee272e2",
   "metadata": {},
   "source": [
    "Here we take our raw data from the csv file and convert it into data that we can send to the cuOpt solver.\n",
    "\n",
    "- vehicle_locations is a list of the start and end location of the vehicles. Each vehicle is assigned to a depot from which it departs in the morning and returns to at night. For example, a vehicle that starts and ends in depot 1 which is the location at index 0 would have the vehicle location of [0,0]. \n",
    "\n",
    "- capacities is a list of how much goods each vehicle can carry in weight. Here we have two different types of vehicles: trucks and EV vans. A truck can carry up to 20,000 pounds and an EV van can carry up to 8,000 pounds. This is essential when assigning orders to vehicles because one vehicle can only carry so many orders at once. \n",
    "\n",
    "- vehicle_time_windows is a list of the integer representation of the operating time of each vehicle. Equivalently, the shift of each vehicle driver. We convert the UTC timestamp to epoch time (integer representation in minutes).\n",
    "\n",
    "- vehicle_break_time_windows is a list of the integer representation of break time of each vehicle within its operating time. For a driver working an 8 hour shift, this break in the middle of the day represents their lunch break. These time windows are when their lunch break may occur.\n",
    "  \n",
    "- vehicle_break_durations is the length of the break. Here, we set the duration to be 30 minutes for all vehicles. \n",
    "\n",
    "- vehicle_max_time is a list of the maximum time a vehicle can operate. Even if a driver is available for a long period of time, this constraint enforces a maximum length for a driver's shift. This is also given in minutes. A driver's time window represents total availability which may be longer than a standard shift length. If a driver says they are available to work from 9am to 9pm, we still want to limit their shift to be shorter. A truck driver can drive up to 7 hours, and an EV driver can drive up to 4 hours. "
   ]
  },
  {
   "cell_type": "code",
   "execution_count": null,
   "id": "f9cdc911",
   "metadata": {},
   "outputs": [],
   "source": [
    "depot_names_to_indices_dict = {locations_df[\"Name\"].values.tolist()[i]: i for i in range(n_depots)}\n",
    "vehicle_locations = vehicles_df[[\"assigned_depot\",\"assigned_depot\"]].replace(depot_names_to_indices_dict).values.tolist()"
   ]
  },
  {
   "cell_type": "code",
   "execution_count": null,
   "id": "8140752d",
   "metadata": {},
   "outputs": [],
   "source": [
    "capacities = [[int(a) for a in vehicles_df['vehicle_capacity'].tolist()]]"
   ]
  },
  {
   "cell_type": "code",
   "execution_count": null,
   "id": "f0520835",
   "metadata": {},
   "outputs": [],
   "source": [
    "vehicle_time_windows = pd.concat((vehicles_df['vehicle_start'].apply(get_minutes_from_datetime).to_frame(), vehicles_df['vehicle_end'].apply(get_minutes_from_datetime).to_frame()), axis=1).values.tolist()"
   ]
  },
  {
   "cell_type": "code",
   "execution_count": null,
   "id": "4c91b7db-e09c-44ea-b004-354fb6f87a05",
   "metadata": {},
   "outputs": [],
   "source": [
    "vehicle_break_time_windows = [pd.concat((vehicles_df['break_start'].apply(get_minutes_from_datetime).to_frame(), vehicles_df['break_end'].apply(get_minutes_from_datetime).to_frame()), axis=1).values.tolist()]"
   ]
  },
  {
   "cell_type": "code",
   "execution_count": null,
   "id": "5b905b81-3881-4217-8f89-d4ebd44aa6be",
   "metadata": {},
   "outputs": [],
   "source": [
    "vehicle_break_durations = [[30] * n_vehicles]"
   ]
  },
  {
   "cell_type": "code",
   "execution_count": null,
   "id": "1567d1b2-caca-4fb0-9706-20c97db350ef",
   "metadata": {},
   "outputs": [],
   "source": [
    "vehicles_max_time = vehicles_df['max_time'].tolist()"
   ]
  },
  {
   "cell_type": "markdown",
   "id": "49c9a0d3",
   "metadata": {},
   "source": [
    "### Set Task Data\n"
   ]
  },
  {
   "attachments": {},
   "cell_type": "markdown",
   "id": "16fc19fb",
   "metadata": {},
   "source": [
    "Here we take our raw data from the csv file and convert it into data that we can send to the cuOpt solver.\n",
    "\n",
    "- task_locations is the list of stores that have placed an order. This list is simply the index of each location. \n",
    "\n",
    "- task_time_windows is the list of integer representation of opening hours for each store. We convert the UTC timestamp to epoch time (integer representation in minutes).\n",
    "\n",
    "- service_times is the list of the length of time for orders to be dropped off once the vehicle reaches the location. Here, these values are between 15 and 30 minutes.\n",
    "\n",
    "- demand is the list of weight demand for each order. Here, these values are between 40 and 200 pounds. \n",
    "\n",
    "- vehicle_match_list allows us to ensure that some orders are assigned to specific vehicles. In this use case, some of the orders are frozen and can be delivered in trucks and not EV vans. Here we can indicate that the frozen orders are assigned specifically to vehicles that are trucks.  "
   ]
  },
  {
   "cell_type": "code",
   "execution_count": null,
   "id": "36ed75d3",
   "metadata": {},
   "outputs": [],
   "source": [
    "task_locations = locations_df.index.tolist()[n_depots:]"
   ]
  },
  {
   "cell_type": "code",
   "execution_count": null,
   "id": "57ec8599-24f7-46b0-b3ee-e5fcc66e47ea",
   "metadata": {},
   "outputs": [],
   "source": [
    "vehicle_locations"
   ]
  },
  {
   "cell_type": "code",
   "execution_count": null,
   "id": "a7b46d22",
   "metadata": {},
   "outputs": [],
   "source": [
    "demands = [orders_df['Demand'].values.tolist()]"
   ]
  },
  {
   "cell_type": "code",
   "execution_count": null,
   "id": "1215178a",
   "metadata": {},
   "outputs": [],
   "source": [
    "service_times = orders_df['ServiceTime'].values.tolist()"
   ]
  },
  {
   "cell_type": "code",
   "execution_count": null,
   "id": "6d734475",
   "metadata": {},
   "outputs": [],
   "source": [
    "task_time_windows = pd.concat((orders_df['order_start_time'].apply(get_minutes_from_datetime).to_frame(), orders_df['order_end_time'].apply(get_minutes_from_datetime).to_frame()), axis=1).values.tolist()"
   ]
  },
  {
   "cell_type": "code",
   "execution_count": null,
   "id": "061e0701-de16-45fc-9bac-556d8af25be8",
   "metadata": {},
   "outputs": [],
   "source": [
    "trucks_ids = vehicles_df['vehicle_type'][vehicles_df['vehicle_type']==\"Truck\"].index.values.tolist()"
   ]
  },
  {
   "cell_type": "code",
   "execution_count": null,
   "id": "0447d298-94b0-4630-bc20-1a7ace475ae3",
   "metadata": {
    "tags": []
   },
   "outputs": [],
   "source": [
    "vehicle_match_list = []\n",
    "for i in orders_df['is_frozen'][orders_df['is_frozen']==1].index.values.tolist():\n",
    "    vehicle_match_list.append({\"order_id\": i, \"vehicle_ids\": trucks_ids})"
   ]
  },
  {
   "cell_type": "markdown",
   "id": "84383472",
   "metadata": {},
   "source": [
    "### Set Solver configuration"
   ]
  },
  {
   "attachments": {},
   "cell_type": "markdown",
   "id": "93be6922",
   "metadata": {},
   "source": [
    "Before we send our data to the cuOpt solver, we will add a few several configuration settings.\n",
    "\n",
    "- the time_limit is the maximum time allotted to find a solution. This depends on the user, who has the flexibility of setting a higher time‑limit for better results. \n",
    "\n",
    "- the number of parallel agents (climbers) examining the solution search space.\n",
    "\n",
    "If the user wants the first solution, then around 2-3 seconds for 2000-4000 climbers are enough. cuOpt solver does not interrupt the initial solution. So if the user specifies a shorter time than it takes for the initial solution, the initial solution is returned when it is computed. Increasing the number of climbers will increase the time it takes to compute the initial solution.\n",
    "By default, the number of climbers is chosen by considering occupancy of a small GPU and experimented runtime vs number of climbers trade-off (that is, the best result in shortest time). Normally 1024 is a good start."
   ]
  },
  {
   "cell_type": "code",
   "execution_count": null,
   "id": "da3d8294",
   "metadata": {},
   "outputs": [],
   "source": [
    "# Set the time limit \n",
    "# Set number of climbers that will try to search for an optimal routes in parallel\n",
    "time_limit = 0.1\n",
    "number_of_climbers = 1024"
   ]
  },
  {
   "attachments": {},
   "cell_type": "markdown",
   "id": "bf0db186",
   "metadata": {},
   "source": [
    "## Save data in a dictionary\n",
    "\n",
    "Here, we take all the data we have prepared so far and save it to one dictionary. This includes the cost matrices, task data, fleet data, and solver config. This is all the data that cuOpt needs to solve our LMD problem. "
   ]
  },
  {
   "cell_type": "code",
   "execution_count": null,
   "id": "5596a044-d26c-4c2a-8ed5-db7374564ccc",
   "metadata": {},
   "outputs": [],
   "source": [
    "cuopt_problem_data = {\n",
    "    \"cost_matrix_data\": {\n",
    "        \"cost_matrix\": {\n",
    "            \"0\": cost_matrix_df.tolist()\n",
    "        }\n",
    "    },\n",
    "    \"travel_time_matrix_data\": {\n",
    "        \"cost_matrix\": {\n",
    "            \"0\": travel_time_matrix_df.to_numpy().tolist()\n",
    "        }\n",
    "    },\n",
    "    \"task_data\": {\n",
    "        \"task_locations\": task_locations,\n",
    "        \"demand\": demands,\n",
    "        \"task_time_windows\": task_time_windows,\n",
    "        \"service_times\":service_times,\n",
    "        \"order_vehicle_match\": vehicle_match_list,\n",
    "    },\n",
    "    \"fleet_data\": {\n",
    "        \"vehicle_locations\": vehicle_locations,\n",
    "        \"capacities\": capacities,\n",
    "        \"vehicle_time_windows\": vehicle_time_windows,\n",
    "        \"vehicle_break_time_windows\": vehicle_break_time_windows,\n",
    "        \"vehicle_break_durations\": vehicle_break_durations,\n",
    "        \"vehicle_max_times\": vehicles_max_time,\n",
    "    },\n",
    "    \"solver_config\": {\n",
    "        \"time_limit\": time_limit,\n",
    "        \"number_of_climbers\": number_of_climbers\n",
    "    }\n",
    "}"
   ]
  },
  {
   "attachments": {},
   "cell_type": "markdown",
   "id": "9e07895f",
   "metadata": {},
   "source": [
    "## Create a Service Client Instance\n",
    "\n",
    "Now that we have prepared all of our data, we can establish a connection to the cuOpt service. \n",
    "\n",
    "In the cell below, paste your client ID and Secret that you received via email in order to authenticate the connection. \n",
    "\n",
    "Here, we create an instance of the cuOpt Service Client to establish a connection. \n"
   ]
  },
  {
   "cell_type": "code",
   "execution_count": null,
   "id": "1a8c425f",
   "metadata": {},
   "outputs": [],
   "source": [
    "cuopt_client_id = \"<YOUR CLIENT ID>\"\n",
    "cuopt_client_secret = \"<YOUR CLIENT SECRET>\"\n",
    "\n",
    "cuopt_service_client = CuOptServiceClient(\n",
    "    client_id=cuopt_client_id,\n",
    "    client_secret=cuopt_client_secret,\n",
    "    )"
   ]
  },
  {
   "attachments": {},
   "cell_type": "markdown",
   "id": "5568eafb",
   "metadata": {},
   "source": [
    "## Send data to the cuOpt service and get the routes\n",
    "\n",
    "When using the Python SDK or microservice, we need to send all the data in to cuOpt in multiple steps or API calls. \n",
    "\n",
    "When using the managed service, we send all the data in at once."
   ]
  },
  {
   "cell_type": "code",
   "execution_count": null,
   "id": "c67efeef-bfeb-4674-bf63-c3c52b846a11",
   "metadata": {},
   "outputs": [],
   "source": [
    "# Solve the problem\n",
    "solver_response = cuopt_service_client.get_optimized_routes(\n",
    "    cuopt_problem_data\n",
    ")\n",
    "\n",
    "# Process returned data\n",
    "solver_resp = solver_response[\"response\"][\"solver_response\"]\n",
    "\n",
    "location_names = [str(x) for x in locations_df.index.tolist()]\n",
    "\n",
    "if solver_resp[\"status\"] == 0:\n",
    "    print(\"Cost for the routing in distance: \", solver_resp[\"solution_cost\"])\n",
    "    print(\"Vehicle count to complete routing: \", solver_resp[\"num_vehicles\"])\n",
    "    show_vehicle_routes(solver_resp, location_names)\n",
    "else:\n",
    "    print(\"NVIDIA cuOpt Failed to find a solution with status : \", solver_resp[\"status\"])"
   ]
  },
  {
   "cell_type": "code",
   "execution_count": null,
   "id": "0673613e-a94f-4e32-aee5-95df5b6bd117",
   "metadata": {},
   "outputs": [],
   "source": [
    "solver_response"
   ]
  },
  {
   "attachments": {},
   "cell_type": "markdown",
   "id": "be379147",
   "metadata": {},
   "source": [
    "## Visualize the routes\n",
    "\n",
    "\n",
    "In the drop down menu below, you can select different vehicle ID's to see if they are dispatched. If they are, we print their assigned route on a map.\n",
    "\n",
    "In this example, vehicle 0 is not dispatched. Choose a vehicle starting from vehicle 1.\n",
    "\r\n",
    "\r\n",
    "Generating a route and map uses third party tools and takes about 30 seconds to run."
   ]
  },
  {
   "cell_type": "code",
   "execution_count": null,
   "id": "51c436bf",
   "metadata": {},
   "outputs": [],
   "source": [
    "from IPython.display import display, Markdown, clear_output\n",
    "import ipywidgets as widgets\n",
    "from ipywidgets import interact\n",
    "\n",
    "w = widgets.Dropdown(\n",
    "    options = list(vehicles_df.index.values),\n",
    "    description='Vehicle ID:',\n",
    ")\n",
    "\n",
    "def on_change(value):\n",
    "    if str(value) in list(solver_resp['vehicle_data'].keys()):\n",
    "        curr_route_df = pd.DataFrame(solver_resp[\"vehicle_data\"][str(value)]['route'], columns=[\"stop_index\"])\n",
    "        curr_route_df = pd.merge(curr_route_df, locations_df, how=\"left\", left_on=[\"stop_index\"], right_on=[\"index\"])\n",
    "        display(get_map_by_vehicle(curr_route_df))        \n",
    "    else:\n",
    "        print(\"This Vehicle is not assigned to any order!!\")\n",
    "\n",
    "interact(on_change, value=w)"
   ]
  },
  {
   "cell_type": "markdown",
   "id": "52bb0b6b-9956-4c48-bd06-3e400f590673",
   "metadata": {},
   "source": [
    "# Reoptimization"
   ]
  },
  {
   "cell_type": "markdown",
   "id": "6b569816-ad78-46f2-a911-7cd2dd34664b",
   "metadata": {},
   "source": [
    "In this use case, we have provided data for a problem that has a solution. However, in some instances we may have a solution that is infeasible due to demand and slack time constraints. We can relax some of the constraints and reoptimize in order to get a feasible solution. \n",
    "Here we are adding a new constraint of penalty and a new solver setting of sift time windows.\n"
   ]
  },
  {
   "cell_type": "markdown",
   "id": "62b05f98-694a-422e-8ce8-553acd79d238",
   "metadata": {},
   "source": [
    "Let's start by adding soft time windows. With this, we can relax time window constraints along with a penalty to come up with a solution but at an additional cost. By adding penalties, we can prioritize order/customers by providing higher penalties to such jobs compared to others."
   ]
  },
  {
   "cell_type": "markdown",
   "id": "717be84f-0786-4c36-932a-d3f4db665a3d",
   "metadata": {},
   "source": [
    "To add soft time windows, we change the solution scope in solver_settings."
   ]
  },
  {
   "cell_type": "code",
   "execution_count": null,
   "id": "8b9326ec-014d-495b-b2c9-8f360d9d0ef1",
   "metadata": {},
   "outputs": [],
   "source": [
    "solution_scope = 1"
   ]
  },
  {
   "cell_type": "markdown",
   "id": "34024a26-bb64-43f0-958a-03a7133f4760",
   "metadata": {},
   "source": [
    "Next, when adding penalty we prioritize orders/customers that are a \"loyal member\" by providing higher penalties to such tasks compared toother orders/customers that are not \"loyalty member\"."
   ]
  },
  {
   "cell_type": "code",
   "execution_count": null,
   "id": "12dfd76d-ee4c-494a-b657-bddfeeefdb66",
   "metadata": {
    "tags": []
   },
   "outputs": [],
   "source": [
    "loyalty_member = orders_df['loyalty_member'].values.tolist()\n",
    "\n",
    "penalty = [x * 100 for x in loyalty_member]"
   ]
  },
  {
   "cell_type": "code",
   "execution_count": null,
   "id": "c4141ce2",
   "metadata": {},
   "outputs": [],
   "source": [
    "cuopt_problem_data = {\n",
    "    \"cost_matrix_data\": {\n",
    "        \"cost_matrix\": {\n",
    "            \"0\": cost_matrix_df.tolist()\n",
    "        }\n",
    "    },\n",
    "    \"travel_time_matrix_data\": {\n",
    "        \"cost_matrix\": {\n",
    "            \"0\": travel_time_matrix_df.to_numpy().tolist()\n",
    "        }\n",
    "    },\n",
    "    \"task_data\": {\n",
    "        \"task_locations\": task_locations,\n",
    "        \"demand\": demands,\n",
    "        \"task_time_windows\": task_time_windows,\n",
    "        \"service_times\":service_times,\n",
    "        \"order_vehicle_match\": vehicle_match_list,\n",
    "        \"penalties\": penalty,\n",
    "    },\n",
    "    \"fleet_data\": {\n",
    "        \"vehicle_locations\": vehicle_locations,\n",
    "        \"capacities\": capacities,\n",
    "        \"vehicle_time_windows\": vehicle_time_windows,\n",
    "        \"vehicle_break_time_windows\": vehicle_break_time_windows,\n",
    "        \"vehicle_break_durations\": vehicle_break_durations,\n",
    "        \"vehicle_max_times\": vehicles_max_time\n",
    "    },\n",
    "    \"solver_config\": {\n",
    "        \"time_limit\": time_limit,\n",
    "        \"number_of_climbers\": number_of_climbers,\n",
    "        \"solution_scope\": solution_scope,\n",
    "    }\n",
    "}"
   ]
  },
  {
   "cell_type": "code",
   "execution_count": null,
   "id": "9d5a4300-0feb-498b-8b27-3dae5bcdba7b",
   "metadata": {},
   "outputs": [],
   "source": [
    "# Solve the problem\n",
    "solver_response = cuopt_service_client.get_optimized_routes(\n",
    "    cuopt_problem_data\n",
    ")\n",
    "\n",
    "# Process returned data\n",
    "solver_resp = solver_response[\"response\"][\"solver_response\"]\n",
    "\n",
    "location_names = [str(x) for x in locations_df.index.tolist()]\n",
    "\n",
    "if solver_resp[\"status\"] == 0:\n",
    "    print(\"Cost for the routing in distance: \", solver_resp[\"solution_cost\"])\n",
    "    print(\"Vehicle count to complete routing: \", solver_resp[\"num_vehicles\"])\n",
    "    show_vehicle_routes(solver_resp, location_names)\n",
    "else:\n",
    "    print(\"NVIDIA cuOpt Failed to find a solution with status : \", solver_resp[\"status\"])"
   ]
  },
  {
   "cell_type": "code",
   "execution_count": null,
   "id": "a102666b",
   "metadata": {},
   "outputs": [],
   "source": [
    "from IPython.display import display, Markdown, clear_output\n",
    "import ipywidgets as widgets\n",
    "from ipywidgets import interact\n",
    "\n",
    "w = widgets.Dropdown(\n",
    "    options = list(vehicles_df.index.values),\n",
    "    description='Vehicle ID:',\n",
    ")\n",
    "\n",
    "def on_change(value):\n",
    "    if str(value) in list(solver_resp['vehicle_data'].keys()):\n",
    "        curr_route_df = pd.DataFrame(solver_resp[\"vehicle_data\"][str(value)]['route'], columns=[\"stop_index\"])\n",
    "        curr_route_df = pd.merge(curr_route_df, locations_df, how=\"left\", left_on=[\"stop_index\"], right_on=[\"index\"])\n",
    "        display(get_map_by_vehicle(curr_route_df))        \n",
    "    else:\n",
    "        print(\"This Vehicle is not assigned to any order!!\")\n",
    "\n",
    "interact(on_change, value=w)"
   ]
  },
  {
   "cell_type": "code",
   "execution_count": null,
   "id": "e433e406-6ed9-4740-ae46-1e2668b61ca6",
   "metadata": {},
   "outputs": [],
   "source": []
  }
 ],
 "metadata": {
  "kernelspec": {
   "display_name": "Python 3 (ipykernel)",
   "language": "python",
   "name": "python3"
  },
  "language_info": {
   "codemirror_mode": {
    "name": "ipython",
    "version": 3
   },
   "file_extension": ".py",
   "mimetype": "text/x-python",
   "name": "python",
   "nbconvert_exporter": "python",
   "pygments_lexer": "ipython3",
   "version": "3.9.5"
  }
 },
 "nbformat": 4,
 "nbformat_minor": 5
}
